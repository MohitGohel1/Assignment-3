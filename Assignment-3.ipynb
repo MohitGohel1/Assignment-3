{
 "cells": [
  {
   "cell_type": "markdown",
   "id": "57748b01-be4c-4194-9372-e9be1436d8d8",
   "metadata": {},
   "source": [
    "#1"
   ]
  },
  {
   "cell_type": "code",
   "execution_count": 2,
   "id": "ed08b113-7cdc-437d-8682-79bdbd936bd6",
   "metadata": {},
   "outputs": [
    {
     "name": "stdout",
     "output_type": "stream",
     "text": [
      "0\n",
      "1\n",
      "2\n",
      "3\n",
      "4\n",
      "5\n",
      "6\n",
      "7\n",
      "8\n",
      "9\n"
     ]
    }
   ],
   "source": [
    "\"\"\"\n",
    "For loop is used when you want to iterate over a sequence such as a list, tuple, or string or other iterable object and\n",
    "execute a block of code a set number of times.\n",
    "\"\"\"\n",
    "for i in range(0,10):\n",
    "    print(i)"
   ]
  },
  {
   "cell_type": "code",
   "execution_count": 3,
   "id": "4c792150-866f-4523-ac09-402f94357960",
   "metadata": {},
   "outputs": [
    {
     "name": "stdout",
     "output_type": "stream",
     "text": [
      "0\n",
      "1\n",
      "2\n",
      "3\n",
      "4\n",
      "5\n",
      "6\n",
      "7\n",
      "8\n",
      "9\n"
     ]
    }
   ],
   "source": [
    "\"\"\"\n",
    "While loop, on the other hand, is used when you want to keep executing ablock of code as long as a certain condition\n",
    "remains true.\n",
    "\"\"\"\n",
    "i=0\n",
    "while i<10:\n",
    "    print(i)\n",
    "    i=i+1"
   ]
  },
  {
   "cell_type": "markdown",
   "id": "d0be0d78-7051-45a8-9d29-a2314eceaed2",
   "metadata": {},
   "source": [
    "#2"
   ]
  },
  {
   "cell_type": "code",
   "execution_count": 5,
   "id": "26482e25-ea24-46a5-ad23-30ede3b253dc",
   "metadata": {},
   "outputs": [
    {
     "name": "stdout",
     "output_type": "stream",
     "text": [
      "55\n",
      "3628800\n"
     ]
    }
   ],
   "source": [
    "sum=0\n",
    "pro=1\n",
    "for i in range(1,11):\n",
    "    sum = sum + i\n",
    "    pro = pro * i\n",
    "print(sum)\n",
    "print(pro)"
   ]
  },
  {
   "cell_type": "code",
   "execution_count": 6,
   "id": "204e56be-5add-49fc-a9c6-618dbca7df6a",
   "metadata": {},
   "outputs": [
    {
     "name": "stdout",
     "output_type": "stream",
     "text": [
      "55\n",
      "3628800\n"
     ]
    }
   ],
   "source": [
    "sum=0\n",
    "pro=1\n",
    "i=1\n",
    "while i<=10:\n",
    "    sum = sum + i\n",
    "    pro = pro * i\n",
    "    i=i+1\n",
    "print(sum)\n",
    "print(pro)"
   ]
  },
  {
   "cell_type": "markdown",
   "id": "3eb5e773-2868-4f48-91f6-2671b03ec9aa",
   "metadata": {},
   "source": [
    "#3"
   ]
  },
  {
   "cell_type": "code",
   "execution_count": 8,
   "id": "ec43ab65-fd24-42aa-8891-49065a5c7fcd",
   "metadata": {},
   "outputs": [
    {
     "name": "stdin",
     "output_type": "stream",
     "text": [
      " 310\n"
     ]
    },
    {
     "name": "stdout",
     "output_type": "stream",
     "text": [
      "2250\n"
     ]
    }
   ],
   "source": [
    "n=int(input())\n",
    "i=1\n",
    "bill=0\n",
    "while n>0:\n",
    "    if i==1:\n",
    "        if n>=100:\n",
    "            bill = bill + 100*4.5\n",
    "            n=n-100\n",
    "        else:\n",
    "            bill = bill + n*4.5\n",
    "            n=0\n",
    "        i=i+1\n",
    "    elif i==2:\n",
    "        if n>=100:\n",
    "            bill = bill + 100*6\n",
    "            n=n-100\n",
    "        else:\n",
    "            bill= bill + n*6\n",
    "            n=0\n",
    "        i=i+1\n",
    "    elif i==3:\n",
    "        if n>=100:\n",
    "            bill = bill +100*10\n",
    "            n=n-100\n",
    "        else:\n",
    "            bill = bill + n*10\n",
    "            n=0\n",
    "        i=i+1\n",
    "    else:\n",
    "        if n>=100:\n",
    "            bill = bill + 100*20\n",
    "            n=n-100\n",
    "        else:\n",
    "            bill = bill + n*20\n",
    "            n=0\n",
    "print(int(bill))"
   ]
  },
  {
   "cell_type": "markdown",
   "id": "2fec8d54-05d0-47d3-9299-b1b06b91e589",
   "metadata": {},
   "source": [
    "#4"
   ]
  },
  {
   "cell_type": "code",
   "execution_count": 13,
   "id": "0ce2d3df-e361-4f9a-ae6f-aff1cd808fd5",
   "metadata": {},
   "outputs": [
    {
     "name": "stdout",
     "output_type": "stream",
     "text": [
      "[2, 4, 5, 6, 8, 10, 12, 14, 15, 16, 18, 20, 22, 24, 25, 26, 28, 30, 32, 34, 35, 36, 38, 40, 42, 44, 45, 46, 48, 50, 52, 54, 55, 56, 58, 60, 62, 64, 65, 66, 68, 70, 72, 74, 75, 76, 78, 80, 82, 84, 85, 86, 88, 90, 92, 94, 95, 96, 98, 100]\n"
     ]
    }
   ],
   "source": [
    "a=list(range(1,101))\n",
    "l=[]\n",
    "for i in a:\n",
    "    b=i*i*i\n",
    "    if b%4==0 or b%5==0:\n",
    "        l.append(i)\n",
    "print(l)"
   ]
  },
  {
   "cell_type": "code",
   "execution_count": null,
   "id": "5a146a88-ebd7-413f-bbcb-8c8d06f762c8",
   "metadata": {},
   "outputs": [],
   "source": [
    "l=[]\n",
    "i=1\n",
    "while i<=100:\n",
    "    b=i*i*i\n",
    "    if b%4==0 or b%5==0:\n",
    "        l.append(i)\n",
    "    i=i+1\n",
    "print(l)"
   ]
  },
  {
   "cell_type": "markdown",
   "id": "6d02926a-ba0f-4839-93d0-658a06b1a9ec",
   "metadata": {},
   "source": [
    "#5"
   ]
  },
  {
   "cell_type": "code",
   "execution_count": null,
   "id": "30aa4d42-33d8-4d75-a20e-ad396544e807",
   "metadata": {},
   "outputs": [],
   "source": [
    "string = \"I want to become a data scientist\"\n",
    "a=['a','e','i','o','u']\n",
    "counter = 0\n",
    "for i in string:\n",
    "    if i.lower() in a:\n",
    "        counter = counter + 1\n",
    "print(counter)"
   ]
  },
  {
   "cell_type": "code",
   "execution_count": null,
   "id": "472776c8-c7b4-443d-b643-03909f6060bb",
   "metadata": {},
   "outputs": [],
   "source": []
  }
 ],
 "metadata": {
  "kernelspec": {
   "display_name": "Python 3 (ipykernel)",
   "language": "python",
   "name": "python3"
  },
  "language_info": {
   "codemirror_mode": {
    "name": "ipython",
    "version": 3
   },
   "file_extension": ".py",
   "mimetype": "text/x-python",
   "name": "python",
   "nbconvert_exporter": "python",
   "pygments_lexer": "ipython3",
   "version": "3.10.8"
  }
 },
 "nbformat": 4,
 "nbformat_minor": 5
}
